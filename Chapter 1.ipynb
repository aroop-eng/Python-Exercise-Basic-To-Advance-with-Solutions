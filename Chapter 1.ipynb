{
 "cells": [
  {
   "cell_type": "markdown",
   "metadata": {},
   "source": [
    "# Chapter 1"
   ]
  },
  {
   "cell_type": "markdown",
   "metadata": {},
   "source": [
    "### 1. Use several print statements to print out a triangle that looks exactly like the one below"
   ]
  },
  {
   "cell_type": "raw",
   "metadata": {},
   "source": [
    "*\n",
    "**\n",
    "***\n",
    "****"
   ]
  },
  {
   "cell_type": "code",
   "execution_count": 2,
   "metadata": {},
   "outputs": [
    {
     "name": "stdout",
     "output_type": "stream",
     "text": [
      "*\n",
      "**\n",
      "***\n",
      "****\n"
     ]
    }
   ],
   "source": [
    "print('*')\n",
    "print('**')\n",
    "print('***')\n",
    "print('****')"
   ]
  },
  {
   "cell_type": "markdown",
   "metadata": {},
   "source": [
    "### 2. Use several print statements to print out the letter A exactly like the one below."
   ]
  },
  {
   "cell_type": "raw",
   "metadata": {},
   "source": [
    "    *\n",
    "  *   *\n",
    "  *****\n",
    " *      *\n",
    "*       *"
   ]
  },
  {
   "cell_type": "code",
   "execution_count": 6,
   "metadata": {},
   "outputs": [
    {
     "name": "stdout",
     "output_type": "stream",
     "text": [
      "     *\n",
      "   *   *\n",
      "  *******\n",
      " *       *\n",
      "*         *\n"
     ]
    }
   ],
   "source": [
    "print('     *')\n",
    "print('   *   *')\n",
    "print('  *******')\n",
    "print(' *       *')\n",
    "print('*         *')"
   ]
  },
  {
   "cell_type": "markdown",
   "metadata": {},
   "source": [
    "### 3.Write a program that asks the user to enter a distance in kilometers and then prints out how far that distance is in miles. There are 0.621371 miles in one kilometer."
   ]
  },
  {
   "cell_type": "code",
   "execution_count": 10,
   "metadata": {},
   "outputs": [
    {
     "name": "stdout",
     "output_type": "stream",
     "text": [
      "Enter a Distance in kilometer: 5\n",
      "The dsitance in Miles is : 3.106855\n"
     ]
    }
   ],
   "source": [
    "a=int(input('Enter a Distance in kilometer: '))\n",
    "print('The dsitance in Miles is :',a*0.621371)"
   ]
  },
  {
   "cell_type": "markdown",
   "metadata": {},
   "source": [
    "### 4.Write a program that asks the user to enter their name. Then print out the user’s name three times on the same line."
   ]
  },
  {
   "cell_type": "code",
   "execution_count": 11,
   "metadata": {},
   "outputs": [
    {
     "name": "stdout",
     "output_type": "stream",
     "text": [
      "Enter your name: Aroop\n",
      "AroopAroopAroop\n"
     ]
    }
   ],
   "source": [
    "b=input('Enter your name: ')\n",
    "print(b*3)"
   ]
  },
  {
   "cell_type": "markdown",
   "metadata": {},
   "source": [
    "### 5.Write a program that asks the user to enter two numbers (you’ll probably want to use separate input statements for that). Then print out the result of adding those two numbers."
   ]
  },
  {
   "cell_type": "code",
   "execution_count": 12,
   "metadata": {},
   "outputs": [
    {
     "name": "stdout",
     "output_type": "stream",
     "text": [
      "Enter a Number: 5\n",
      "Enter a Number: 6\n",
      "The addition of two numbers are: 11\n"
     ]
    }
   ],
   "source": [
    "c=int(input('Enter a Number: '))\n",
    "d=int(input('Enter a Number: '))\n",
    "print('The addition of two numbers are:',c+d)"
   ]
  },
  {
   "cell_type": "markdown",
   "metadata": {},
   "source": [
    "### 6. The Body Mass Index, BMI, is calculated as BMI =703w/h2\n",
    "\n",
    "where w is the person’s weight in pounds and h is the person’s height in inches. Write a program that\n",
    "asks the user for their height their weight and prints out their BMI. [Note: one way to compute h\n",
    "2\n",
    "is\n",
    "as h · h.]"
   ]
  },
  {
   "cell_type": "code",
   "execution_count": 13,
   "metadata": {},
   "outputs": [
    {
     "name": "stdout",
     "output_type": "stream",
     "text": [
      "Enter a weight: 150\n",
      "Enter a height: 68\n",
      "The BMI of the person is: 22.80493079584775\n"
     ]
    }
   ],
   "source": [
    "w=int(input('Enter a weight: '))\n",
    "h=int(input('Enter a height: '))\n",
    "print('The BMI of the person is:',703*w/(h*h))"
   ]
  },
  {
   "cell_type": "markdown",
   "metadata": {},
   "source": [
    "### 7.Write a program that asks the user to enter five numbers (use five input statements). Then print out those numbers all on the same line, with each number separated from the others by exactly three spaces. Use the sep optional argument to the print statement to do this."
   ]
  },
  {
   "cell_type": "code",
   "execution_count": 14,
   "metadata": {},
   "outputs": [
    {
     "name": "stdout",
     "output_type": "stream",
     "text": [
      "Enter a number: 1\n",
      "Enter a number: 2\n",
      "Enter a number: 3\n",
      "Enter a number: 5\n",
      "Enter a number: 4\n",
      "1   2   3   5   4\n"
     ]
    }
   ],
   "source": [
    "a=int(input('Enter a number: '))\n",
    "b=int(input('Enter a number: '))\n",
    "c=int(input('Enter a number: '))\n",
    "d=int(input('Enter a number: '))\n",
    "e=int(input('Enter a number: '))\n",
    "print(a,b,c,d,e,sep='   ')"
   ]
  },
  {
   "cell_type": "markdown",
   "metadata": {},
   "source": [
    "### 8.Write a program that asks the user to enter a number. Store that number in a variable. Add 2 to that number, store the result in the same variable, and then print out the value of that variable"
   ]
  },
  {
   "cell_type": "code",
   "execution_count": 15,
   "metadata": {},
   "outputs": [
    {
     "name": "stdout",
     "output_type": "stream",
     "text": [
      "Enter a number: 5\n",
      "7\n"
     ]
    }
   ],
   "source": [
    "a=int(input('Enter a number: '))\n",
    "a=a+2\n",
    "print(a)"
   ]
  },
  {
   "cell_type": "code",
   "execution_count": null,
   "metadata": {},
   "outputs": [],
   "source": []
  }
 ],
 "metadata": {
  "kernelspec": {
   "display_name": "Python 3",
   "language": "python",
   "name": "python3"
  },
  "language_info": {
   "codemirror_mode": {
    "name": "ipython",
    "version": 3
   },
   "file_extension": ".py",
   "mimetype": "text/x-python",
   "name": "python",
   "nbconvert_exporter": "python",
   "pygments_lexer": "ipython3",
   "version": "3.7.3"
  }
 },
 "nbformat": 4,
 "nbformat_minor": 2
}
