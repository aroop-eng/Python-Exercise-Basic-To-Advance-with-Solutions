{
 "cells": [
  {
   "cell_type": "markdown",
   "metadata": {},
   "source": [
    "# Chapter 3 Exercises (Numbers)"
   ]
  },
  {
   "cell_type": "markdown",
   "metadata": {},
   "source": [
    "### 1. Write a program that asks the user for two numbers x and y and then prints out the result of x**y"
   ]
  },
  {
   "cell_type": "code",
   "execution_count": 1,
   "metadata": {},
   "outputs": [
    {
     "name": "stdout",
     "output_type": "stream",
     "text": [
      "Enter a First number: 5\n",
      "Enter a second number: 6\n",
      "Result: 15625\n"
     ]
    }
   ],
   "source": [
    "x=int(input('Enter a First number: '))\n",
    "y=int(input('Enter a second number: '))\n",
    "print('Result:',x**y)"
   ]
  },
  {
   "cell_type": "markdown",
   "metadata": {},
   "source": [
    "### 2. Write a program that does the following computation in Python: 9 + 3/8 − 2. The result should come out to 2. Be careful about order of operations"
   ]
  },
  {
   "cell_type": "code",
   "execution_count": 2,
   "metadata": {},
   "outputs": [
    {
     "name": "stdout",
     "output_type": "stream",
     "text": [
      "2\n"
     ]
    }
   ],
   "source": [
    "result=(9+3)/(8-2)\n",
    "print(int(result))"
   ]
  },
  {
   "cell_type": "markdown",
   "metadata": {},
   "source": [
    "### 3. Some board games require you to reduce the number of cards you are holding by half, rounded down. For instance, if you have 10 cards, you would reduce to 5 and if you had 11 cards you would also reduce to 5. With 12 cards you would reduce to 6. Write a program that asks the user to enter how many cards they have and print out what their hand would reduce to under this rule.\n"
   ]
  },
  {
   "cell_type": "code",
   "execution_count": 3,
   "metadata": {},
   "outputs": [
    {
     "name": "stdout",
     "output_type": "stream",
     "text": [
      "Enter a Number of Cards: 11\n",
      "Reduced cards:  5\n"
     ]
    }
   ],
   "source": [
    "#Ceil: This will always round up eg: math.ceil(1.1)==2\n",
    "#floor: This will always round down eg: math.floor(1.1)==1\n",
    "import math\n",
    "cards=int(input('Enter a Number of Cards: '))\n",
    "print('Reduced cards: ',math.floor(cards/2))"
   ]
  },
  {
   "cell_type": "markdown",
   "metadata": {},
   "source": [
    "### 4. The distance between two numbers on the number line is the absolute value of the difference of the two numbers. For instance, the distance between 3 and 7.2 is |3 − 7.2| = 4.2. Write a program that asks the user for two numbers and prints out the distance between them."
   ]
  },
  {
   "cell_type": "code",
   "execution_count": 3,
   "metadata": {},
   "outputs": [
    {
     "name": "stdout",
     "output_type": "stream",
     "text": [
      "Enter a first Number: 3\n",
      "Enter a second Number: 7.2\n",
      "The distance betweeen two numbers are:  4.2\n"
     ]
    }
   ],
   "source": [
    "num1=float(input('Enter a first Number: '))\n",
    "num2=float(input('Enter a second Number: '))\n",
    "result=num1-num2\n",
    "print('The distance betweeen two numbers are: ',abs(result))#abs takes only 1 argument"
   ]
  },
  {
   "cell_type": "markdown",
   "metadata": {},
   "source": [
    "### 5.Write a program that asks the user to enter a positive number and then prints out the square root of that number rounded to 2 decimal places."
   ]
  },
  {
   "cell_type": "code",
   "execution_count": 5,
   "metadata": {},
   "outputs": [
    {
     "name": "stdout",
     "output_type": "stream",
     "text": [
      "Enter a number: 7.5\n",
      "56.25\n"
     ]
    }
   ],
   "source": [
    "a=abs(float(input('Enter a number: ')))\n",
    "sqr=round(a**2,2)\n",
    "print(sqr)"
   ]
  },
  {
   "cell_type": "markdown",
   "metadata": {},
   "source": [
    "### 6.Write a program that prints out the numbers from 1 to 20 and their square roots, rounded to 4 decimal places, with the square root of the number being on the same line as the number"
   ]
  },
  {
   "cell_type": "code",
   "execution_count": 11,
   "metadata": {},
   "outputs": [
    {
     "name": "stdout",
     "output_type": "stream",
     "text": [
      "1---1.0\n",
      "2---1.4142\n",
      "3---1.7321\n",
      "4---2.0\n",
      "5---2.2361\n",
      "6---2.4495\n",
      "7---2.6458\n",
      "8---2.8284\n",
      "9---3.0\n",
      "10---3.1623\n",
      "11---3.3166\n",
      "12---3.4641\n",
      "13---3.6056\n",
      "14---3.7417\n",
      "15---3.873\n",
      "16---4.0\n",
      "17---4.1231\n",
      "18---4.2426\n",
      "19---4.3589\n",
      "20---4.4721\n"
     ]
    }
   ],
   "source": [
    "for i in range(1,21):\n",
    "    print(i,round(i**0.5,4),sep='---')"
   ]
  },
  {
   "cell_type": "markdown",
   "metadata": {},
   "source": [
    "### 7.If you have a right triangle that is x units wide and y units tall, then using atan2(y,x) from the math module finds one of the triangle’s angles. It returns the result in radians. The degrees() function can convert the result to degrees. Write a program that asks the user to enter a width and a height and prints out the angle returned by atan2, but in degrees and rounded to one decimal place."
   ]
  },
  {
   "cell_type": "code",
   "execution_count": 18,
   "metadata": {},
   "outputs": [
    {
     "name": "stdout",
     "output_type": "stream",
     "text": [
      "Enter a width of the traingle: 5\n",
      "Enter a height of the traingle: 9\n",
      "The angle of the traingle is:  -245.6\n"
     ]
    }
   ],
   "source": [
    "import math\n",
    "width=float(input('Enter a width of the traingle: '))\n",
    "height=float(input('Enter a height of the traingle: '))\n",
    "print('The angle of the traingle is: ',round(math.degrees((math.tan(height/width))),1))"
   ]
  },
  {
   "cell_type": "markdown",
   "metadata": {},
   "source": [
    "### 8. Write a program that generates two random numbers from 1 to 10, and prints out the two numbers and their sum."
   ]
  },
  {
   "cell_type": "code",
   "execution_count": 1,
   "metadata": {},
   "outputs": [
    {
     "name": "stdout",
     "output_type": "stream",
     "text": [
      "The first number is : 8\n",
      "The second number is: 7\n",
      "The sum of the number is: 15\n"
     ]
    }
   ],
   "source": [
    "import random\n",
    "a=random.randint(1,10)\n",
    "b=random.randint(1,10)\n",
    "print('The first number is :',a)\n",
    "print('The second number is:',b)\n",
    "print('The sum of the number is:',a+b)"
   ]
  },
  {
   "cell_type": "markdown",
   "metadata": {},
   "source": [
    "### 9. Write a program that generates and prints 100 random numbers from 50 to 60, all on the same line, separated by spaces"
   ]
  },
  {
   "cell_type": "code",
   "execution_count": 6,
   "metadata": {},
   "outputs": [
    {
     "name": "stdout",
     "output_type": "stream",
     "text": [
      "50 51 55 52 53 54 56 59 51 51 53 50 50 53 55 52 54 56 53 60 55 56 58 53 55 50 50 53 51 60 55 55 52 52 53 50 51 54 60 56 50 54 50 54 57 57 52 54 54 51 51 54 59 53 52 52 53 50 51 60 52 52 53 58 58 50 56 50 52 53 56 50 60 51 56 53 50 57 55 57 53 54 58 59 60 58 55 56 56 57 50 59 57 60 54 59 51 59 50 "
     ]
    }
   ],
   "source": [
    "import random\n",
    "for i in range(1,100):\n",
    "    a=random.randint(50,60)\n",
    "    print(a,end=' ')"
   ]
  },
  {
   "cell_type": "markdown",
   "metadata": {},
   "source": [
    "### 10.Write a program that asks the user to enter a letter. Then it generates a random number between 1 and 10 and prints out the letter that many times.\n"
   ]
  },
  {
   "cell_type": "code",
   "execution_count": 9,
   "metadata": {},
   "outputs": [
    {
     "name": "stdout",
     "output_type": "stream",
     "text": [
      "Enter a letter: w\n",
      "w\n",
      "w\n",
      "w\n"
     ]
    }
   ],
   "source": [
    "import random\n",
    "a=input('Enter a letter: ')\n",
    "b=random.randint(1,10)\n",
    "for i in range(b):\n",
    "    print(a)"
   ]
  },
  {
   "cell_type": "markdown",
   "metadata": {},
   "source": [
    "### 11.Write a program that asks the user to enter a positive integer. Then generate a random number between that number and 10 more than that number and print the letter A that many times on the same line."
   ]
  },
  {
   "cell_type": "code",
   "execution_count": 12,
   "metadata": {},
   "outputs": [
    {
     "name": "stdout",
     "output_type": "stream",
     "text": [
      "Enter a positive integer: 49\n",
      "A A A A A A A A A A A A A A A A A A A A A A A A A A A A A A A A A A A A A A A A A A A A A A A A A A A A A A A A "
     ]
    }
   ],
   "source": [
    "import random\n",
    "a=int(input('Enter a positive integer: '))\n",
    "b=random.randint(a,a+10)\n",
    "for i in range(b):\n",
    "    print('A',end=' ')"
   ]
  }
 ],
 "metadata": {
  "kernelspec": {
   "display_name": "Python 3",
   "language": "python",
   "name": "python3"
  },
  "language_info": {
   "codemirror_mode": {
    "name": "ipython",
    "version": 3
   },
   "file_extension": ".py",
   "mimetype": "text/x-python",
   "name": "python",
   "nbconvert_exporter": "python",
   "pygments_lexer": "ipython3",
   "version": "3.7.3"
  }
 },
 "nbformat": 4,
 "nbformat_minor": 2
}
